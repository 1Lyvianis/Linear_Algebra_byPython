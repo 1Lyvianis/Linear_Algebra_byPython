{
 "cells": [
  {
   "cell_type": "code",
   "execution_count": 102,
   "id": "ca8a8e95",
   "metadata": {
    "scrolled": false
   },
   "outputs": [
    {
     "name": "stdout",
     "output_type": "stream",
     "text": [
      "3 3\n",
      "1 -1 -2\n",
      "2 -3 -5\n",
      "-1 3 5\n",
      "[[ 0.  1.  1.]\n",
      " [ 5. -3. -1.]\n",
      " [-3.  2.  1.]]\n"
     ]
    }
   ],
   "source": [
    "import numpy as np\n",
    "n,a = map(int, input().split())\n",
    "z = np.zeros((n,n))\n",
    "ii = np.zeros((n,n))\n",
    "for i in range(n):#input matrix\n",
    "    row = input().split()\n",
    "    for j in range(a):\n",
    "        z[i,j] = row[j]\n",
    "for i in range(n):#create a indentity matrix\n",
    "    ii[i,i] = 1\n",
    "# input matrix\n",
    "for i in range(n):\n",
    "    if z[i,i]==0:#check first since pivot should not be zero\n",
    "        for k in range(i+1,n):\n",
    "            if z[k,i]!=0:\n",
    "                for j in range(n):\n",
    "                    z[i,j],z[k,j]=z[k,j],z[i,j]\n",
    "                    ii[i,j],ii[k,j]=ii[k,j],ii[i,j]\n",
    "                    \n",
    "                    \n",
    "                    #Use multiple assignment to swap the element at each index in the array.\n",
    "                break  #pivot is now valid\n",
    "    pivot = z[i,i]\n",
    "    for j in range(n):\n",
    "        z[i,j] /= pivot#each element on the same row is divided by the pivot, \n",
    "                    #which made sure that pivots are all 1\n",
    "        ii[i,j] /= pivot\n",
    " \n",
    "    for k in range(n):\n",
    "        if z[k,i]==0 or k==i:\n",
    "            continue\n",
    "        quo = z[k,i]\n",
    "        for j in range(n):\n",
    "            z[k,j]-=quo * z[i,j]\n",
    "            ii[k,j]-=quo * ii[i,j]\n",
    "print(ii)"
   ]
  },
  {
   "cell_type": "code",
   "execution_count": null,
   "id": "fc030f22",
   "metadata": {},
   "outputs": [],
   "source": []
  }
 ],
 "metadata": {
  "kernelspec": {
   "display_name": "Python 3",
   "language": "python",
   "name": "python3"
  },
  "language_info": {
   "codemirror_mode": {
    "name": "ipython",
    "version": 3
   },
   "file_extension": ".py",
   "mimetype": "text/x-python",
   "name": "python",
   "nbconvert_exporter": "python",
   "pygments_lexer": "ipython3",
   "version": "3.8.8"
  }
 },
 "nbformat": 4,
 "nbformat_minor": 5
}
