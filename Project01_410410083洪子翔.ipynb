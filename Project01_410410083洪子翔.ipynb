{
 "cells": [
  {
   "cell_type": "code",
   "execution_count": 20,
   "id": "8043061c",
   "metadata": {},
   "outputs": [
    {
     "name": "stdout",
     "output_type": "stream",
     "text": [
      "A=\n",
      "[[0.4976, -16.0, -9.0, 10.0, 16.0, -2.0], [0.058, -11.0, 16.0, 0.0, 13.0, 17.0], [0.9783, 4.0, 1.0, 10.0, -11.0, 10.0], [0.0246, 11.0, 3.0, -16.0, 17.0, -6.0], [0.1509, -13.0, -19.0, 1.0, -2.0, 1.0], [0.6284, -15.0, -15.0, -1.0, -3.0, 9.0]]\n",
      "B=\n",
      "[[-16.0, -9.0, 10.0, 16.0, -2.0, 0.1066], [-11.0, 16.0, 0.0, 13.0, 17.0, 0.4511], [4.0, 1.0, 10.0, -11.0, 10.0, 0.1943], [11.0, 3.0, -16.0, 17.0, -6.0, 0.8257], [-13.0, -19.0, 1.0, -2.0, 1.0, 0.1856], [-15.0, -15.0, -1.0, -3.0, 9.0, 0.0642]]\n"
     ]
    }
   ],
   "source": [
    "#please import Project01_data.mat inside cwd first!\n",
    "import numpy as np\n",
    "from mat4py import loadmat\n",
    "M = loadmat('Project01_data.mat')\n",
    "A = M['A']\n",
    "B = M['B']\n",
    "print(\"A=\")\n",
    "print(A)\n",
    "print(\"B=\")\n",
    "print(B)"
   ]
  },
  {
   "cell_type": "code",
   "execution_count": 23,
   "id": "4e7b0bdd",
   "metadata": {},
   "outputs": [
    {
     "name": "stdout",
     "output_type": "stream",
     "text": [
      "AXB=\n",
      "[[  64.0384     -513.4784     -227.024        42.9616     -424.9952\n",
      "     2.18494416]\n",
      " [-239.928      -662.522       156.58       -395.072       138.884\n",
      "     1.6570828 ]\n",
      " [  47.3472      145.1953     -161.217       218.6528       95.0434\n",
      "     8.96038678]\n",
      " [-416.3936     -102.2214      309.246      -177.6064      275.9508\n",
      "    -4.89357764]\n",
      " [  86.5856     -202.3581     -207.491        60.4144     -410.3018\n",
      "    -9.02121406]\n",
      " [ -12.0544     -341.6556     -139.716       -57.9456     -322.2568\n",
      "   -10.41871256]]\n"
     ]
    }
   ],
   "source": [
    "import numpy as np\n",
    "from mat4py import loadmat\n",
    "M = loadmat('Project01_data.mat')\n",
    "A = M['A']\n",
    "B = M['B']\n",
    "a = np.array(A)\n",
    "b = np.array(B)\n",
    "print(\"AXB=\")\n",
    "print(a.dot(b))"
   ]
  },
  {
   "cell_type": "code",
   "execution_count": 13,
   "id": "9301acfa",
   "metadata": {
    "scrolled": true
   },
   "outputs": [
    {
     "name": "stdout",
     "output_type": "stream",
     "text": [
      "[[ 1  0  0  0  0  0  0  0  0  0  0]\n",
      " [ 0  1  0  0  0  0  0  0  0  0 -3]\n",
      " [ 0  0  1  0  0  0  0  0  0  0 12]\n",
      " [ 0  0  0  1  0  0  0  0  0  0  0]\n",
      " [ 0  0  0  0  1  0  0  0  0  0  2]\n",
      " [ 0  0  0  0  0  1  0  0  0  0 -2]\n",
      " [ 0  0  0  0  0  0  1  0  0  0 -5]\n",
      " [ 0  0  0  0  0  0  0  1  0  0 -1]\n",
      " [ 0  0  0  0  0  0  0  0  1  0  1]\n",
      " [ 0  0  0  0  0  0  0  0  0  1  2]]\n"
     ]
    }
   ],
   "source": [
    "import numpy as np\n",
    "from mat4py import loadmat\n",
    "M = loadmat('Project01_data.mat')\n",
    "Z = M['Z']\n",
    "z = np.array(Z)\n",
    "n = len(z)\n",
    "for i in range(n):\n",
    "    if z[i,i]==0:#check first since pivot should not be zero\n",
    "        for k in range(n):\n",
    "            if z[k,i]!=0:\n",
    "                for j in range(n):\n",
    "                    z[i,j],z[k,j]=z[k,j],z[i,j]\n",
    "                    #Use multiple assignment to swap the element at each index in the array.\n",
    "                break  #pivot is now valid\n",
    "    pivot = z[i,i]\n",
    "    for j in range(i,n+1):\n",
    "        z[i,j] /= pivot#each element on the same row is divided by the pivot\n",
    "    for k in range(n):\n",
    "        if z[k,i]==0 or k==i:\n",
    "            continue\n",
    "        quo = z[k,i]\n",
    "        for j in range(i,n+1):\n",
    "            z[k,j]-=quo * z[i,j]\n",
    "print(z)            \n",
    "    \n",
    "    \n",
    "                \n"
   ]
  }
 ],
 "metadata": {
  "kernelspec": {
   "display_name": "Python 3",
   "language": "python",
   "name": "python3"
  },
  "language_info": {
   "codemirror_mode": {
    "name": "ipython",
    "version": 3
   },
   "file_extension": ".py",
   "mimetype": "text/x-python",
   "name": "python",
   "nbconvert_exporter": "python",
   "pygments_lexer": "ipython3",
   "version": "3.8.8"
  }
 },
 "nbformat": 4,
 "nbformat_minor": 5
}
