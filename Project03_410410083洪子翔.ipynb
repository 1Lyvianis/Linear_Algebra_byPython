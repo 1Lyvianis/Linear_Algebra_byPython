{
 "cells": [
  {
   "cell_type": "code",
   "execution_count": 9,
   "id": "b556b787",
   "metadata": {},
   "outputs": [
    {
     "name": "stdout",
     "output_type": "stream",
     "text": [
      "λ1 =  2.828427124746191 , v1 =  [-0.15622986  0.68963195 -0.37717224 -0.59811462]\n",
      "λ2 =  2.2360679774997902 , v2 =  [ 0.69455348 -0.13264791  0.42925766  0.56190557]\n",
      "λ3 =  -2.8284271247461925 , v3 =  [-0.37717224  0.59811462  0.15622986  0.68963195]\n",
      "λ4 =  -2.2360679774997885 , v4 =  [ 0.42925766 -0.56190557 -0.69455348 -0.13264791]\n",
      "\n",
      "\n",
      "p = \n",
      " [[-0.15622986  0.69455348 -0.37717224  0.42925766]\n",
      " [ 0.68963195 -0.13264791  0.59811462 -0.56190557]\n",
      " [-0.37717224  0.42925766  0.15622986 -0.69455348]\n",
      " [-0.59811462  0.56190557  0.68963195 -0.13264791]]\n"
     ]
    }
   ],
   "source": [
    "###################### STEP 1 ######################\n",
    "#functions importing\n",
    "import numpy as np\n",
    "from numpy import linalg\n",
    "#matrix initializing\n",
    "arr = np.array([[1,1,1,1],[2,1,-1,-2],[1,-1,-1,1],[1,-2,2,-1]])\n",
    "#a stands for the eigenvalues of the given matrix, while\n",
    "#b stands for the corresponding eigenvectors of eigenvalues.\n",
    "#note that these vectors are presented columnwise.\n",
    "a, p = np.linalg.eig(arr)\n",
    "#do a matrix tranposition so that we can access the eigenvectors more easily. \n",
    "c = p.transpose()\n",
    "print(\"λ1 = \",a[0],\", v1 = \",c[0])\n",
    "print(\"λ2 = \",a[1],\", v2 = \",c[1])\n",
    "print(\"λ3 = \",a[2],\", v3 = \",c[2])\n",
    "print(\"λ4 = \",a[3],\", v4 = \",c[3])\n",
    "print(\"\\n\")\n",
    "print(\"p = \\n\",p)\n",
    "#b and c both represent matrices that consist of eigenvectors.\n",
    "#the former is columnwise, yet the later is rowwise."
   ]
  },
  {
   "cell_type": "code",
   "execution_count": 10,
   "id": "ef816070",
   "metadata": {},
   "outputs": [
    {
     "name": "stdout",
     "output_type": "stream",
     "text": [
      "p^(-1) = \n",
      " [[ 0.75434448  1.06680419 -0.31245971 -0.44188477]\n",
      " [ 1.25645904  0.56190557  0.29660975  0.13264791]\n",
      " [-0.31245971  0.44188477 -0.75434448  1.06680419]\n",
      " [ 0.29660975 -0.13264791 -1.25645904  0.56190557]]\n"
     ]
    }
   ],
   "source": [
    "###################### STEP 2 ######################\n",
    "import numpy as np\n",
    "from numpy import linalg\n",
    "arr = np.array([[1,1,1,1],[2,1,-1,-2],[1,-1,-1,1],[1,-2,2,-1]])\n",
    "a,p = np.linalg.eig(arr)\n",
    "#we are using the eigenvector matrix, which is p.\n",
    "arr = p\n",
    "#note that the inversing method below are extracted from Project 2.\n",
    "#create an identity matrix using for loop.\n",
    "iden = np.zeros((4,4))\n",
    "for i in range(4):\n",
    "    iden[i,i] = 1\n",
    "for i in range(4):\n",
    "    #check first since pivot should not be zero.\n",
    "    if arr[i,i]==0:\n",
    "        for k in range(i+1,4):\n",
    "            if arr[k,i]!=0:\n",
    "                #Use multiple assignment to swap the element at each index in the array.\n",
    "                for j in range(4):\n",
    "                    arr[i,j],arr[k,j]=arr[k,j],arr[i,j]\n",
    "                    iden[i,j],iden[k,j]=iden[k,j],iden[i,j]\n",
    "                break  \n",
    "                #pivot is now valid\n",
    "    pivot = arr[i,i]\n",
    "    for j in range(4):\n",
    "        arr[i,j] /= pivot\n",
    "        #each element on the same row is divided by the pivot, \n",
    "        #which made sure that pivots are all 1.\n",
    "        iden[i,j] /= pivot\n",
    "    #calculations below are based on elimination method    \n",
    "    for k in range(4):\n",
    "        if arr[k,i]==0 or k==i:\n",
    "            continue\n",
    "        quo = arr[k,i]\n",
    "        for j in range(4):\n",
    "            arr[k,j]-=quo * arr[i,j]\n",
    "            iden[k,j]-=quo * iden[i,j]\n",
    "#the identity matrix has altered into the inverse of eigenvector matrix, by the inversing algorithm.            \n",
    "print(\"p^(-1) = \\n\",iden)"
   ]
  },
  {
   "cell_type": "code",
   "execution_count": 11,
   "id": "c4fcda4b",
   "metadata": {},
   "outputs": [
    {
     "name": "stdout",
     "output_type": "stream",
     "text": [
      "D = \n",
      " [[ 2.82843 -0.      -0.       0.     ]\n",
      " [ 0.       2.23607 -0.      -0.     ]\n",
      " [-0.       0.      -2.82843 -0.     ]\n",
      " [-0.       0.       0.      -2.23607]]\n"
     ]
    }
   ],
   "source": [
    "###################### STEP 3 ######################\n",
    "###################### START of step 2, the inversing method ######################\n",
    "import numpy as np\n",
    "from numpy import linalg\n",
    "A = np.array([[1,1,1,1],[2,1,-1,-2],[1,-1,-1,1],[1,-2,2,-1]])\n",
    "x,p = np.linalg.eig(A)\n",
    "arr = p\n",
    "iden = np.zeros((4,4))\n",
    "\n",
    "for i in range(4):\n",
    "    iden[i,i] = 1\n",
    "for i in range(4):\n",
    "    if arr[i,i]==0:\n",
    "        for k in range(i+1,4):\n",
    "            if arr[k,i]!=0:\n",
    "                for j in range(4):\n",
    "                    arr[i,j],arr[k,j]=arr[k,j],arr[i,j]\n",
    "                    iden[i,j],iden[k,j]=iden[k,j],iden[i,j]\n",
    "                break  \n",
    "    pivot = arr[i,i]\n",
    "    for j in range(4):\n",
    "        arr[i,j] /= pivot\n",
    "        iden[i,j] /= pivot   \n",
    "    for k in range(4):\n",
    "        if arr[k,i]==0 or k==i:\n",
    "            continue\n",
    "        quo = arr[k,i]\n",
    "        for j in range(4):\n",
    "            arr[k,j]-=quo * arr[i,j]\n",
    "            iden[k,j]-=quo * iden[i,j]\n",
    "###################### END of step 2, the inversing method ######################\n",
    "#change name to arc-p for better recognition.\n",
    "arcp = iden\n",
    "x,p = np.linalg.eig(A)\n",
    "#dot product\n",
    "D = np.dot(arcp,A)\n",
    "D = np.dot(D,p)\n",
    "#round into the 5th number after decimal.\n",
    "D = np.round(D,5)\n",
    "print(\"D = \\n\",D)"
   ]
  },
  {
   "cell_type": "code",
   "execution_count": 12,
   "id": "307c8852",
   "metadata": {},
   "outputs": [
    {
     "name": "stdout",
     "output_type": "stream",
     "text": [
      "A^100 = \n",
      " [[ 8.88262633e+34 -4.75797596e+44  4.75797596e+44 -4.75797596e+44]\n",
      " [ 4.75797596e+44  1.42739279e+45 -9.51595192e+44  4.75797596e+44]\n",
      " [-4.75797596e+44 -4.75797596e+44  8.88277723e+34  4.75797596e+44]\n",
      " [-9.51595192e+44 -4.75797596e+44 -4.75797596e+44  1.42739279e+45]]\n"
     ]
    }
   ],
   "source": [
    "###################### STEP 4 ######################\n",
    "###################### START of step 3 ######################\n",
    "import numpy as np\n",
    "from numpy import linalg\n",
    "A = np.array([[1,1,1,1],[2,1,-1,-2],[1,-1,-1,1],[1,-2,2,-1]])\n",
    "x,p = np.linalg.eig(A)\n",
    "arr = p\n",
    "iden = np.zeros((4,4))\n",
    "\n",
    "for i in range(4):\n",
    "    iden[i,i] = 1\n",
    "for i in range(4):\n",
    "    if arr[i,i]==0:\n",
    "        for k in range(i+1,4):\n",
    "            if arr[k,i]!=0:\n",
    "                for j in range(4):\n",
    "                    arr[i,j],arr[k,j]=arr[k,j],arr[i,j]\n",
    "                    iden[i,j],iden[k,j]=iden[k,j],iden[i,j]\n",
    "                break  \n",
    "    pivot = arr[i,i]\n",
    "    for j in range(4):\n",
    "        arr[i,j] /= pivot\n",
    "        iden[i,j] /= pivot   \n",
    "    for k in range(4):\n",
    "        if arr[k,i]==0 or k==i:\n",
    "            continue\n",
    "        quo = arr[k,i]\n",
    "        for j in range(4):\n",
    "            arr[k,j]-=quo * arr[i,j]\n",
    "            iden[k,j]-=quo * iden[i,j]\n",
    "arcp = iden\n",
    "x,p = np.linalg.eig(A)\n",
    "D = np.dot(arcp,A)\n",
    "D = np.dot(D,p)\n",
    "D = np.round(D,5)\n",
    "###################### END of step 3 ######################\n",
    "#define a function that does matrix dot product\n",
    "#note that this is NOT from NumPy\n",
    "def dot_product(left,right):\n",
    "    result = np.zeros((4,4))\n",
    "    for i in range(4):\n",
    "        for j in range(4):\n",
    "            for k in range(4):\n",
    "                result[i,j] += left[i,k] * right[k,j]\n",
    "    return result\n",
    "#seperate into few steps\n",
    "# p * D\n",
    "ans = dot_product(p,D)\n",
    "#(p * D) * D^99\n",
    "for i in range(99):\n",
    "    ans = dot_product(ans,D)\n",
    "#[(p * D) * D^99] * arcp  \n",
    "ans = dot_product(ans,arcp)\n",
    "print(\"A^100 = \\n\",ans)"
   ]
  }
 ],
 "metadata": {
  "kernelspec": {
   "display_name": "Python 3",
   "language": "python",
   "name": "python3"
  },
  "language_info": {
   "codemirror_mode": {
    "name": "ipython",
    "version": 3
   },
   "file_extension": ".py",
   "mimetype": "text/x-python",
   "name": "python",
   "nbconvert_exporter": "python",
   "pygments_lexer": "ipython3",
   "version": "3.8.8"
  }
 },
 "nbformat": 4,
 "nbformat_minor": 5
}
